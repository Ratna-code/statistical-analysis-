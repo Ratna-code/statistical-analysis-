{
  "nbformat": 4,
  "nbformat_minor": 0,
  "metadata": {
    "colab": {
      "provenance": [],
      "authorship_tag": "ABX9TyPStUiBoWfLihj3+U5bbtGv",
      "include_colab_link": true
    },
    "kernelspec": {
      "name": "python3",
      "display_name": "Python 3"
    },
    "language_info": {
      "name": "python"
    }
  },
  "cells": [
    {
      "cell_type": "markdown",
      "metadata": {
        "id": "view-in-github",
        "colab_type": "text"
      },
      "source": [
        "<a href=\"https://colab.research.google.com/github/Ratna-code/statistical-analysis-/blob/main/Independent_2_sample_t_test_%26_Paired_2_sample_T_test_.ipynb\" target=\"_parent\"><img src=\"https://colab.research.google.com/assets/colab-badge.svg\" alt=\"Open In Colab\"/></a>"
      ]
    },
    {
      "cell_type": "markdown",
      "source": [
        "**Independent 2 sample t-test**"
      ],
      "metadata": {
        "id": "q5nEGLBPQxqv"
      }
    },
    {
      "cell_type": "markdown",
      "source": [
        "An independent two-sample t-test, also known as an unpaired t-test, is a statistical method used to compare the means of two independent groups to determine if there is a significant difference between them.\n",
        "\n",
        "\n",
        "\n",
        "**Assumptions for the test**\n",
        "- **1.Independence of observations**: The two samples must be independent, meaning there is no relationship between the observations in one group and the observations in the other group. The subjects in the two groups should be selected randomly and independently.\n",
        "\n",
        "- 2**.Normality**: The data in each of the two groups should be approximately normally distributed. The t-test is considered robust to mild violations of normality, especially when the sample sizes are large (typically n ≥ 30) and the sample sizes of the two groups are similar. If the data is highly skewed or has substantial outliers, consider using a non-parametric test, such as the Mann-Whitney U test.\n",
        "\n",
        "- 3.**Equal variances (Homoscedasticity)**: The variances of the two populations should be approximately equal. This assumption can be checked using F-test for equality of variances. If this assumption is not met, you can use Welch's t-test, which does not require equal variances.\n",
        "\n",
        "- 4.**Random sampling:** The data should be collected using a random sampling method from the respective populations. This ensures that the sample is representative of the population and reduces the risk of selection bias."
      ],
      "metadata": {
        "id": "jQDNGNg7Q9fr"
      }
    },
    {
      "cell_type": "markdown",
      "source": [
        "![image.png](data:image/png;base64,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)"
      ],
      "metadata": {
        "id": "STZf-ih_UY2w"
      }
    },
    {
      "cell_type": "markdown",
      "source": [
        "Q. Suppose a website owner claims that there is no difference in the average time spent on their website between desktop and mobile users. To test this claim, we collect data from 30 desktop users and 30 mobile users regarding the time spent on the website in minutes. The sample statistics are as follows:\n",
        "\n",
        "desktop users = [12, 15, 18, 16, 20, 17, 14, 22, 19, 21, 23, 18, 25, 17, 16, 24, 20, 19, 22, 18, 15,14, 23, 16, 12, 21, 19, 17, 20, 14]\n",
        "\n",
        "mobile_users = [10, 12, 14, 13, 16, 15, 11, 17, 14, 16, 18, 14, 20, 15, 14, 19, 16, 15, 17, 14, 12, 11, 18, 15, 10, 16, 15, 13, 16, 11]\n",
        "- Desktop users:\n",
        "\n",
        "- Sample size (n1): 30\n",
        "- Sample mean (mean1): 18.5 minutes\n",
        "- Sample standard deviation (std_dev1): 3.5 minutes\n",
        "\n",
        "\n",
        "\n",
        "- Mobile users:\n",
        "\n",
        "- Sample size (n2): 30\n",
        "- Sample mean (mean2): 14.3 minutes\n",
        "- Sample standard deviation (std_dev2): 2.7 minutes\n",
        "\n",
        "We will use a significance level (α) of 0.05 for the hypothesis test."
      ],
      "metadata": {
        "id": "7wH6vlYAQ9Xj"
      }
    },
    {
      "cell_type": "markdown",
      "source": [
        "Null Hypothesis (H0):\n",
        "- There is no significant difference in the average time spent on the website between desktop and mobile users.\n",
        "\n",
        "Alternative Hypothesis (H1):\n",
        "- There is a significant difference in the average time spent on the website between desktop and mobile users."
      ],
      "metadata": {
        "id": "8Pj2tUuWTT6o"
      }
    },
    {
      "cell_type": "code",
      "source": [
        "# The Shapiro-Wilk test returns two values: the test statistic (W) and the p-value.\n",
        "# If the p-value is greater than your chosen significance level (α = 0.05),\n",
        "# you can assume the data comes from a normally distributed population.\n",
        "# If the p-value is less than or equal to the significance level, the normality assumption is not met,\n",
        "# and you should consider applying a data transformation or using a non-parametric test like the Mann-Whitney U test.\n",
        "\n",
        "\n",
        "from scipy.stats import shapiro\n",
        "\n",
        "# Input the data as lists\n",
        "desktop_users = [12, 15, 18, 16, 20, 17, 14, 22, 19, 21, 23, 18, 25, 17, 16, 24, 20, 19, 22, 18, 15, 14, 23, 16, 12, 21, 19, 17, 20, 14]\n",
        "mobile_users = [10, 12, 14, 13, 16, 15, 11, 17, 14, 16, 18, 14, 20, 15, 14, 19, 16, 15, 17, 14, 12, 11, 18, 15, 10, 16, 15, 13, 16, 11]\n",
        "\n",
        "# Perform the Shapiro-Wilk test for both desktop and mobile users\n",
        "shapiro_desktop = shapiro(desktop_users)\n",
        "shapiro_mobile = shapiro(mobile_users)\n",
        "\n",
        "print(\"Shapiro-Wilk test for desktop users:\", shapiro_desktop)\n",
        "print(\"Shapiro-Wilk test for mobile users:\", shapiro_mobile)\n"
      ],
      "metadata": {
        "colab": {
          "base_uri": "https://localhost:8080/"
        },
        "id": "8-inYmadQ9GM",
        "outputId": "08581994-d83d-4f2a-9644-7212bb491a28"
      },
      "execution_count": 38,
      "outputs": [
        {
          "output_type": "stream",
          "name": "stdout",
          "text": [
            "Shapiro-Wilk test for desktop users: ShapiroResult(statistic=0.9783114194869995, pvalue=0.7790969014167786)\n",
            "Shapiro-Wilk test for mobile users: ShapiroResult(statistic=0.9714356064796448, pvalue=0.5791608691215515)\n"
          ]
        }
      ]
    },
    {
      "cell_type": "code",
      "execution_count": 39,
      "metadata": {
        "colab": {
          "base_uri": "https://localhost:8080/"
        },
        "id": "wiAPTi4wQNdB",
        "outputId": "27a61d3e-43fa-4853-efda-72058bf444a7"
      },
      "outputs": [
        {
          "output_type": "stream",
          "name": "stdout",
          "text": [
            "LeveneResult(statistic=2.94395488191752, pvalue=0.09153720526741761)\n"
          ]
        }
      ],
      "source": [
        "# If the p-value from Levene's test is greater than your chosen significance level (α = 0.05), you can assume equal variances\n",
        "#  If the p-value is less than or equal to the significance level, the assumption of equal variances is not met,\n",
        "# and you should consider using Welch's t-test instead of the regular independent two-sample t-test.\n",
        "\n",
        "from scipy.stats import levene\n",
        "\n",
        "# Input the data as lists\n",
        "desktop_users = [12, 15, 18, 16, 20, 17, 14, 22, 19, 21, 23, 18, 25, 17, 16, 24, 20, 19, 22, 18, 15, 14, 23, 16, 12, 21, 19, 17, 20, 14]\n",
        "mobile_users = [10, 12, 14, 13, 16, 15, 11, 17, 14, 16, 18, 14, 20, 15, 14, 19, 16, 15, 17, 14, 12, 11, 18, 15, 10, 16, 15, 13, 16, 11]\n",
        "\n",
        "# Perform Levene's test\n",
        "levene_test = levene(desktop_users, mobile_users)\n",
        "print(levene_test)\n"
      ]
    },
    {
      "cell_type": "code",
      "source": [
        "# Perform the independent two-sample t-test\n",
        "from scipy.stats import stats\n",
        "\n",
        "t_test = stats.ttest_ind(desktop_users, mobile_users, equal_var=True)\n",
        "print(t_test)\n"
      ],
      "metadata": {
        "colab": {
          "base_uri": "https://localhost:8080/"
        },
        "id": "AV4oTs0pU_Qs",
        "outputId": "e82b77e8-8963-4627-9f0d-994d08ff7775"
      },
      "execution_count": 40,
      "outputs": [
        {
          "output_type": "stream",
          "name": "stdout",
          "text": [
            "TtestResult(statistic=4.625335930681123, pvalue=2.1422811334975257e-05, df=58.0)\n"
          ]
        },
        {
          "output_type": "stream",
          "name": "stderr",
          "text": [
            "<ipython-input-40-fb8b959c04ff>:4: DeprecationWarning: Please use `ttest_ind` from the `scipy.stats` namespace, the `scipy.stats.stats` namespace is deprecated.\n",
            "  t_test = stats.ttest_ind(desktop_users, mobile_users, equal_var=True)\n"
          ]
        }
      ]
    },
    {
      "cell_type": "code",
      "source": [
        "# Interpret the results\n",
        "if t_test.pvalue < 0.05:\n",
        "  print(\"Reject the null hypothesis. There is a significant difference in the average time spent on the website between desktop and mobile users.\")\n",
        "else:\n",
        "  print(\"Fail to reject the null hypothesis. There is no significant difference in the average time spent on the website between desktop and mobile users.\")\n"
      ],
      "metadata": {
        "colab": {
          "base_uri": "https://localhost:8080/"
        },
        "id": "29AG5SMLWsRo",
        "outputId": "6b9a879d-4f20-4ca5-a448-e9aedebd7e4d"
      },
      "execution_count": 41,
      "outputs": [
        {
          "output_type": "stream",
          "name": "stdout",
          "text": [
            "Reject the null hypothesis. There is a significant difference in the average time spent on the website between desktop and mobile users.\n"
          ]
        }
      ]
    },
    {
      "cell_type": "markdown",
      "source": [
        "Independent 2 sample t-test For Titanic Dataset"
      ],
      "metadata": {
        "id": "soXY87biW0IO"
      }
    },
    {
      "cell_type": "code",
      "source": [
        "# prompt: import titanic dataset y seaborn\n",
        "\n",
        "import seaborn as sns\n",
        "import pandas as pd\n",
        "\n",
        "# Load the Titanic dataset\n",
        "titanic = sns.load_dataset('titanic')\n",
        "pop_male = titanic[titanic['sex'] == 'male']['age'].dropna()\n",
        "pop_female = titanic[titanic['sex'] == 'female']['age'].dropna()\n",
        "\n"
      ],
      "metadata": {
        "id": "Tf-35H4MXhrD"
      },
      "execution_count": 42,
      "outputs": []
    },
    {
      "cell_type": "code",
      "source": [
        "sample_male = pop_male.sample(25)\n",
        "sample_female = pop_female.sample(25)\n",
        "\n",
        "alpha = 0.05"
      ],
      "metadata": {
        "id": "ZwpfKUDJXsnm"
      },
      "execution_count": 43,
      "outputs": []
    },
    {
      "cell_type": "code",
      "source": [
        "# H0 - Mean age of male and female are similar\n",
        "# H1 - Mean age of male is higher than female"
      ],
      "metadata": {
        "id": "vk7crHKVYS-s"
      },
      "execution_count": 44,
      "outputs": []
    },
    {
      "cell_type": "code",
      "source": [
        "from scipy.stats import shapiro\n",
        "\n",
        "# Perform the Shapiro-Wilk test for both male and female age\n",
        "shapiro_male = shapiro(sample_male)\n",
        "shapiro_female = shapiro(sample_female)\n",
        "\n",
        "print(\"Shapiro-Wilk test for male age:\", shapiro_male)\n",
        "print(\"Shapiro-Wilk test for female age :\", shapiro_female)"
      ],
      "metadata": {
        "colab": {
          "base_uri": "https://localhost:8080/"
        },
        "id": "0ezAZ9hZYTBT",
        "outputId": "b699e0f6-1b4d-412f-8313-0c371b1f2db5"
      },
      "execution_count": 45,
      "outputs": [
        {
          "output_type": "stream",
          "name": "stdout",
          "text": [
            "Shapiro-Wilk test for male age: ShapiroResult(statistic=0.9031625986099243, pvalue=0.021512188017368317)\n",
            "Shapiro-Wilk test for female age : ShapiroResult(statistic=0.9497250318527222, pvalue=0.2471713125705719)\n"
          ]
        }
      ]
    },
    {
      "cell_type": "code",
      "source": [
        "from scipy.stats import levene\n",
        "\n",
        "# Perform Levene's test\n",
        "levene_test = levene(sample_male, sample_female)\n",
        "print(levene_test)"
      ],
      "metadata": {
        "colab": {
          "base_uri": "https://localhost:8080/"
        },
        "id": "6bKaeKC5YTEP",
        "outputId": "33cd3de6-84a9-48d8-bebd-5d652d81e29a"
      },
      "execution_count": 46,
      "outputs": [
        {
          "output_type": "stream",
          "name": "stdout",
          "text": [
            "LeveneResult(statistic=0.3262893857027946, pvalue=0.5705172765711095)\n"
          ]
        }
      ]
    },
    {
      "cell_type": "code",
      "source": [
        "import scipy.stats as stats\n",
        "\n",
        "t_statistic, p_value = stats.ttest_ind(sample_male, sample_female)\n",
        "\n",
        "print(\"t-statistic:\", t_statistic)\n",
        "print(\"p-value:\", p_value/2)"
      ],
      "metadata": {
        "colab": {
          "base_uri": "https://localhost:8080/"
        },
        "id": "ON8DWfTFYTHQ",
        "outputId": "cd3e98a1-6b8f-47e0-fbc6-02f13ea1c46a"
      },
      "execution_count": 47,
      "outputs": [
        {
          "output_type": "stream",
          "name": "stdout",
          "text": [
            "t-statistic: 0.8614994857545691\n",
            "p-value: 0.19662318920460214\n"
          ]
        }
      ]
    },
    {
      "cell_type": "code",
      "source": [
        "alpha = 0.05\n",
        "\n",
        "if p_value < alpha:\n",
        "    print(\"Reject the null hypothesis.\")\n",
        "else:\n",
        "    print(\"Fail to reject the null hypothesis.\")"
      ],
      "metadata": {
        "colab": {
          "base_uri": "https://localhost:8080/"
        },
        "id": "fTNrasZpZBP4",
        "outputId": "8ebebcf1-a75a-481c-dc84-11fa4b2935ba"
      },
      "execution_count": 49,
      "outputs": [
        {
          "output_type": "stream",
          "name": "stdout",
          "text": [
            "Fail to reject the null hypothesis.\n"
          ]
        }
      ]
    },
    {
      "cell_type": "markdown",
      "source": [
        "**Paired 2 sample t-test**"
      ],
      "metadata": {
        "id": "GkOmyDLaZixg"
      }
    },
    {
      "cell_type": "markdown",
      "source": [
        "A paired two-sample t-test, also known as a dependent or paired-samples t-test, is a statistical\n",
        "test used to compare the means of two related or dependent groups."
      ],
      "metadata": {
        "id": "AYvquMwIZ86I"
      }
    },
    {
      "cell_type": "markdown",
      "source": [
        "Common scenarios where a paired two-sample t-test is used include:\n",
        "- Before-and-after studies: Comparing the performance of a group before and after an intervention or treatment.\n",
        "\n",
        "- Matched or correlated groups: Comparing the performance of two groups that are\n",
        "matched or correlated in some way, such as siblings or pairs of individuals with similar characteristics."
      ],
      "metadata": {
        "id": "xMZTfH0saSyL"
      }
    },
    {
      "cell_type": "markdown",
      "source": [
        "Assumptions\n",
        "\n",
        "\n",
        "\n",
        "1. Normality: The differences between the paired observations should be approximately\n",
        "normally distributed. This assumption can be checked using graphical methods (e.g.,\n",
        "histograms, Q-Q plots) or statistical tests for normality (e.g., Shapiro-Wilk test). Note that\n",
        "the t-test is generally robust to moderate violations of this assumption when the sample\n",
        "size is large.\n",
        "\n",
        "\n",
        "2. Independence of pairs: Each pair of observations should be independent of other pairs. In\n",
        "other words, the outcome of one pair should not affect the outcome of another pair. This\n",
        "assumption is generally satisfied by appropriate study design and random sampling.\n",
        "\n",
        "3. Paired observations: The two sets of observations must be related or paired in some way,\n",
        "such as before-and-after measurements on the same subjects or observations from\n",
        "matched or correlated groups."
      ],
      "metadata": {
        "id": "cjjZDNs-aSoZ"
      }
    },
    {
      "cell_type": "markdown",
      "source": [
        "Let's assume that a fitness center is evaluating the effectiveness of a new 8-week weight lossprogram. They enroll 15 participants in the program and measure their weights before and after the program. The goal is to test whether the new weight loss program leads to a significant reduction in the participants' weight.\n",
        "\n",
        "- Before the program:\n",
        "[80, 92, 75, 68, 85, 78, 73, 90, 70, 88, 76, 84, 82, 77, 91]\n",
        "\n",
        "\n",
        "- After the program:\n",
        "[78, 93, 81, 67, 88, 76, 74, 91, 69, 88, 77, 81, 80, 79, 88]\n",
        "\n",
        "\n",
        "Significance level (α) = 0.05"
      ],
      "metadata": {
        "id": "7udqWD2LbNRw"
      }
    },
    {
      "cell_type": "markdown",
      "source": [
        " Null Hypothesis (H0):\n",
        "There is no significant difference in the mean weight of participants before and after the weight loss program.\n",
        "\n",
        "Alternative Hypothesis (H1):\n",
        "There is a significant reduction in the mean weight of participants after the weight loss program."
      ],
      "metadata": {
        "id": "vZkCFACTbpkn"
      }
    },
    {
      "cell_type": "code",
      "source": [
        "\n",
        "# Import necessary libraries\n",
        "import scipy.stats as stats\n",
        "\n",
        "# Input the data\n",
        "before_weights = [80, 92, 75, 68, 85, 78, 73, 90, 70, 88, 76, 84, 82, 77, 91]\n",
        "after_weights = [78, 93, 81, 67, 88, 76, 74, 91, 69, 88, 77, 81, 80, 79, 88]\n",
        "\n",
        "# Calculate the difference in weights\n",
        "weight_diff = [before - after for before, after in zip(before_weights, after_weights)]\n",
        "\n",
        "# Perform the Shapiro-Wilk test for normality\n",
        "shapiro_test = stats.shapiro(weight_diff)\n",
        "print(\"Shapiro-Wilk test for normality:\", shapiro_test)\n",
        "\n",
        "# Perform the paired two-sample t-test\n",
        "t_test = stats.ttest_rel(before_weights, after_weights)\n",
        "print(\"Paired two-sample t-test:\", t_test)\n",
        "\n",
        "# Interpret the results\n",
        "alpha = 0.05\n",
        "if t_test.pvalue < alpha:\n",
        "  print(\"Reject the null hypothesis. There is a significant reduction in the mean weight of participants after the weight loss program.\")\n",
        "else:\n",
        "  print(\"Fail to reject the null hypothesis. There is no significant difference in the mean weight of participants before and after the weight loss program.\")\n"
      ],
      "metadata": {
        "colab": {
          "base_uri": "https://localhost:8080/"
        },
        "id": "Tee5z2tDbs7A",
        "outputId": "abd9c92b-ee6b-4fb9-9087-b88b5df388cc"
      },
      "execution_count": 53,
      "outputs": [
        {
          "output_type": "stream",
          "name": "stdout",
          "text": [
            "Shapiro-Wilk test for normality: ShapiroResult(statistic=0.9220570921897888, pvalue=0.20704729855060577)\n",
            "Paired two-sample t-test: TtestResult(statistic=-0.10482848367219182, pvalue=0.9179989706285087, df=14)\n",
            "Fail to reject the null hypothesis. There is no significant difference in the mean weight of participants before and after the weight loss program.\n"
          ]
        }
      ]
    }
  ]
}